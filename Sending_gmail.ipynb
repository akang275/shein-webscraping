{
  "nbformat": 4,
  "nbformat_minor": 0,
  "metadata": {
    "colab": {
      "provenance": []
    },
    "kernelspec": {
      "name": "python3",
      "display_name": "Python 3"
    },
    "language_info": {
      "name": "python"
    }
  },
  "cells": [
    {
      "cell_type": "code",
      "execution_count": 36,
      "metadata": {
        "colab": {
          "base_uri": "https://localhost:8080/"
        },
        "id": "3eRAkx2CpZij",
        "outputId": "27652f27-b12f-4586-c60d-24ab2f70f0d7"
      },
      "outputs": [
        {
          "name": "stdout",
          "output_type": "stream",
          "text": [
            "Type your password and press enter:··········\n"
          ]
        }
      ],
      "source": [
        "# email part\n",
        "\n",
        "import smtplib, ssl\n",
        "from email.mime.text import MIMEText\n",
        "from email.mime.multipart import MIMEMultipart\n",
        "import getpass\n",
        "\n",
        "receiver_email = \"advay48@gmail.com\"\n",
        "sender_email = \"advay@umich.edu\"\n",
        "#password = input(\"Type your password and press enter:\")\n",
        "password = getpass.getpass(\"Type your password and press enter:\")\n",
        "\n",
        "message = MIMEMultipart(\"alternative\")\n",
        "message[\"Subject\"] = \"multipart test\"\n",
        "message[\"From\"] = sender_email\n",
        "message[\"To\"] = receiver_email\n",
        "\n",
        "with open(\"Tracker_Output.txt\", 'r') as read_file:\n",
        "    text = read_file.read()\n",
        "# Create the plain-text and HTML version of your message\n",
        "#text = \"\"\"\\\n",
        "\"\"\"Hi,\n",
        "How are you?\n",
        "Real Python has many great tutorials:\n",
        "www.realpython.com\"\"\"\n",
        "#html = \"\"\"\\\n",
        "\"\"\"<html>\n",
        "  <body>\n",
        "    <p>Hi,\n",
        "    <br>How are you?<br>\n",
        "    <a href=\"http://www.realpython.com\">Real Python</a>\n",
        "    has many great tutorials.\n",
        "    </p>\n",
        "  </body>\n",
        "</html>\"\"\"\n",
        "#\"\"\"\n",
        "read_file.close()\n",
        "# Turn these into plain/html MIMEText objects\n",
        "part1 = MIMEText(text, \"plain\")\n",
        "#part2 = MIMEText(html, \"html\")\n",
        "\n",
        "# Add HTML/plain-text parts to MIMEMultipart message\n",
        "# The email client will try to render the last part first\n",
        "message.attach(part1)\n",
        "#message.attach(part2)\n",
        "\n",
        "# Create secure connection with server and send email\n",
        "context = ssl.create_default_context()\n",
        "with smtplib.SMTP_SSL(\"smtp.gmail.com\", 465, context=context) as server:\n",
        "    server.login(sender_email, password)\n",
        "    server.sendmail(\n",
        "        sender_email, receiver_email, message.as_string()\n",
        "    )"
      ]
    },
    {
      "cell_type": "code",
      "source": [
        "import imaplib\n",
        "import email\n",
        "from email.header import decode_header\n",
        "import webbrowser\n",
        "import os\n",
        "\n",
        "# account credentials\n",
        "username = \"advay@umich.edu\"\n",
        "#password = input(\"Type your password and press enter:\")\n",
        "# use your email provider's IMAP server, you can look for your provider's IMAP server on Google\n",
        "# or check this page: https://www.systoolsgroup.com/imap/\n",
        "# for office 365, it's this:\n",
        "imap_server = \"imap.gmail.com\"\n",
        "\n",
        "def clean(text):\n",
        "    # clean text for creating a folder\n",
        "    return \"\".join(c if c.isalnum() else \"_\" for c in text)\n",
        "\n",
        "# create an IMAP4 class with SSL\n",
        "imap = imaplib.IMAP4_SSL(imap_server)\n",
        "# authenticate\n",
        "imap.login(username, password)\n"
      ],
      "metadata": {
        "colab": {
          "base_uri": "https://localhost:8080/"
        },
        "id": "1Y_Leq5w2eWC",
        "outputId": "b268df56-c2f7-4a4e-aa82-5588d3272c39"
      },
      "execution_count": 37,
      "outputs": [
        {
          "output_type": "execute_result",
          "data": {
            "text/plain": [
              "('OK', [b'advay@umich.edu authenticated (Success)'])"
            ]
          },
          "metadata": {},
          "execution_count": 37
        }
      ]
    },
    {
      "cell_type": "code",
      "source": [
        "status, messages = imap.select(\"INBOX\")\n",
        "# number of top emails to fetch\n",
        "N = 1\n",
        "# total number of emails\n",
        "messages = int(messages[0])\n",
        "write_file = open(\"Email_Input.txt\", \"w\")"
      ],
      "metadata": {
        "id": "-WInpJMd3fWl"
      },
      "execution_count": 38,
      "outputs": []
    },
    {
      "cell_type": "code",
      "source": [
        "for i in range(messages, messages-N, -1):\n",
        "    # fetch the email message by ID\n",
        "    res, msg = imap.fetch(str(i), \"(RFC822)\")\n",
        "    for response in msg:\n",
        "        if isinstance(response, tuple):\n",
        "            # parse a bytes email into a message object\n",
        "            msg = email.message_from_bytes(response[1])\n",
        "            # decode the email subject\n",
        "            subject, encoding = decode_header(msg[\"Subject\"])[0]\n",
        "            if isinstance(subject, bytes):\n",
        "                # if it's a bytes, decode to str\n",
        "                subject = subject.decode(encoding)\n",
        "            # decode email sender\n",
        "            From, encoding = decode_header(msg.get(\"From\"))[0]\n",
        "            if isinstance(From, bytes):\n",
        "                From = From.decode(encoding)\n",
        "            print(\"Subject:\", subject)\n",
        "            print(\"From:\", From)\n",
        "            # if the email message is multipart\n",
        "            if msg.is_multipart():\n",
        "                # iterate over email parts\n",
        "                for part in msg.walk():\n",
        "                    # extract content type of email\n",
        "                    content_type = part.get_content_type()\n",
        "                    content_disposition = str(part.get(\"Content-Disposition\"))\n",
        "                    try:\n",
        "                        # get the email body\n",
        "                        body = part.get_payload(decode=True).decode()\n",
        "                    except:\n",
        "                        pass\n",
        "                    if content_type == \"text/plain\" and \"attachment\" not in content_disposition:\n",
        "                        # print text/plain emails and skip attachments\n",
        "                        print(body)\n",
        "                        body_list = body.split(',')\n",
        "                        body_dict = {}\n",
        "                        for item in body_list:\n",
        "                          item_list = item.split(':')\n",
        "                          body_dict[item_list[0]] = item_list[1]\n",
        "\n",
        "                        for item, size in body_dict.items():\n",
        "                          #print((f'{item}: {size}'))\n",
        "                          write_file.write((f'{item}: {size}\\n'))\n",
        "                          #print(file.read())\n",
        "\n",
        "                    elif \"attachment\" in content_disposition:\n",
        "                        # download attachment\n",
        "                        filename = part.get_filename()\n",
        "                        if filename:\n",
        "                            folder_name = clean(subject)\n",
        "                            if not os.path.isdir(folder_name):\n",
        "                                # make a folder for this email (named after the subject)\n",
        "                                os.mkdir(folder_name)\n",
        "                            filepath = os.path.join(folder_name, filename)\n",
        "                            # download attachment and save it\n",
        "                            open(filepath, \"wb\").write(part.get_payload(decode=True))\n",
        "            \"\"\"else:\n",
        "                # extract content type of email\n",
        "                content_type = msg.get_content_type()\n",
        "                # get the email body\n",
        "                body = msg.get_payload(decode=True).decode()\n",
        "                if content_type == \"text/plain\":\n",
        "                    # print only text email parts\n",
        "                    print(body)\n",
        "            if content_type == \"text/html\":\n",
        "                # if it's HTML, create a new HTML file and open it in browser\n",
        "                folder_name = clean(subject)\n",
        "                if not os.path.isdir(folder_name):\n",
        "                    # make a folder for this email (named after the subject)\n",
        "                    os.mkdir(folder_name)\n",
        "                filename = \"index.html\"\n",
        "                filepath = os.path.join(folder_name, filename)\n",
        "                # write the file\n",
        "                open(filepath, \"w\").write(body)\n",
        "                # open in the default browser\n",
        "                webbrowser.open(filepath)\n",
        "            print(\"=\"*100)\"\"\"\n",
        "# close the connection and logout\n",
        "write_file.close()\n",
        "imap.close()\n",
        "imap.logout()\n",
        "\n"
      ],
      "metadata": {
        "colab": {
          "base_uri": "https://localhost:8080/"
        },
        "id": "gXVwfHzd35v7",
        "outputId": "5d0b72be-0088-4544-dc36-8753d1df82d1"
      },
      "execution_count": 39,
      "outputs": [
        {
          "output_type": "stream",
          "name": "stdout",
          "text": [
            "Subject: \n",
            "From: Advay Singh <advay48@gmail.com>\n",
            "Shirt: small, Black pants: large, tank-top: medium\r\n",
            "\n"
          ]
        },
        {
          "output_type": "execute_result",
          "data": {
            "text/plain": [
              "('BYE', [b'LOGOUT Requested'])"
            ]
          },
          "metadata": {},
          "execution_count": 39
        }
      ]
    }
  ]
}