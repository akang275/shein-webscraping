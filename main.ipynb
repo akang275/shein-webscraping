{
 "cells": [
  {
   "cell_type": "code",
   "execution_count": 2,
   "metadata": {},
   "outputs": [],
   "source": [
    "import time\n",
    "from selenium import webdriver\n",
    "from selenium.webdriver.chrome.service import Service\n",
    "from selenium.webdriver.common.by import By\n",
    "from selenium.webdriver.support.wait import WebDriverWait\n",
    "from selenium.webdriver.chrome.options import Options\n",
    "from bs4 import BeautifulSoup"
   ]
  },
  {
   "cell_type": "code",
   "execution_count": 3,
   "metadata": {},
   "outputs": [],
   "source": [
    "service = Service()\n",
    "\n",
    "# if you want to get fancy with the options\n",
    "# here the the ChromeOptions documentation: https://chromedriver.chromium.org/capabilities#h.p_ID_102\n",
    "# here is the list of Chrome arguments: https://peter.sh/experiments/chromium-command-line-switches/\n",
    "# there are a lot...\n",
    "chrome_options = webdriver.ChromeOptions()\n",
    "chrome_options.add_experimental_option(\"detach\", True) # this keeps the window open post execution/errors/ changing frames (explained later)\n",
    "\n",
    "prefs = {\"download.default_directory\": '/Users/justinpaul/Downloads',  # note need to change this\n",
    "         \"directory_upgrade\": True}\n",
    "chrome_options.add_experimental_option(\"prefs\", prefs)"
   ]
  },
  {
   "cell_type": "code",
   "execution_count": 18,
   "metadata": {},
   "outputs": [],
   "source": [
    "driver = webdriver.Chrome(service=service, options=chrome_options)\n",
    "driver.get('https://us.shein.com/')\n",
    "WebDriverWait(driver, timeout=10)\n",
    "\n",
    "#click out of coupon pop up\n",
    "x_box = driver.find_element(By.CLASS_NAME, \"icon-close\").click()\n",
    "\n",
    "input = 'shirt'\n",
    "\n",
    "search_bar = driver.find_element(By.NAME, \"header-search\").send_keys(input)\n",
    "\n",
    "search_enter = driver.find_element(By.CLASS_NAME, \"suiiconfont-critical\").click()\n",
    "\n",
    "#driver.find_element(By.CSS_SELECTOR, '[aria-label=\"Size\"]').click()\n",
    "\n",
    "# view_more=driver.find_element(By.CLASS_NAME, \"show-more-icon\").click()\n",
    "# view_more=driver.find_element(By.CLASS_NAME, \"show-more-icon\").click()\n",
    "# view_more=driver.find_element(By.CLASS_NAME, \"show-more-icon\").click()\n",
    "# view_more=driver.find_element(By.CLASS_NAME, \"show-more-icon\").click()\n",
    "# view_more=driver.find_element(By.CLASS_NAME, \"show-more-icon\").click()\n",
    "\n",
    "parent_size=driver.find_element(By.CSS_SELECTOR, \"[aria-label=Size]\")\n",
    "view_more=parent_size.find_element(By.CLASS_NAME, \"side-filter__item-viewMore\").click()"
   ]
  },
  {
   "cell_type": "code",
   "execution_count": null,
   "metadata": {},
   "outputs": [],
   "source": [
    "page_source = driver.page_source\n",
    "\n",
    "soup = BeautifulSoup(page_source, 'lxml')\n"
   ]
  }
 ],
 "metadata": {
  "kernelspec": {
   "display_name": "env",
   "language": "python",
   "name": "python3"
  },
  "language_info": {
   "codemirror_mode": {
    "name": "ipython",
    "version": 3
   },
   "file_extension": ".py",
   "mimetype": "text/x-python",
   "name": "python",
   "nbconvert_exporter": "python",
   "pygments_lexer": "ipython3",
   "version": "3.11.5"
  }
 },
 "nbformat": 4,
 "nbformat_minor": 2
}
