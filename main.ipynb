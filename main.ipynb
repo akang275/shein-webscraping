{
 "cells": [
  {
   "cell_type": "code",
   "execution_count": 61,
   "metadata": {},
   "outputs": [
    {
     "name": "stdout",
     "output_type": "stream",
     "text": [
      "coupon\n"
     ]
    },
    {
     "ename": "NoSuchElementException",
     "evalue": "Message: no such element: Unable to locate element: {\"method\":\"css selector\",\"selector\":\".iconfont icon-close she-close\"}\n  (Session info: chrome=118.0.5993.117); For documentation on this error, please visit: https://www.selenium.dev/documentation/webdriver/troubleshooting/errors#no-such-element-exception\nStacktrace:\n0   chromedriver                        0x00000001004d0510 chromedriver + 4310288\n1   chromedriver                        0x00000001004c84bc chromedriver + 4277436\n2   chromedriver                        0x00000001000fbb6c chromedriver + 293740\n3   chromedriver                        0x0000000100141040 chromedriver + 577600\n4   chromedriver                        0x000000010017be60 chromedriver + 818784\n5   chromedriver                        0x0000000100134fd0 chromedriver + 528336\n6   chromedriver                        0x0000000100135e7c chromedriver + 532092\n7   chromedriver                        0x0000000100496834 chromedriver + 4073524\n8   chromedriver                        0x000000010049a7fc chromedriver + 4089852\n9   chromedriver                        0x000000010049ac58 chromedriver + 4090968\n10  chromedriver                        0x00000001004a08f8 chromedriver + 4114680\n11  chromedriver                        0x000000010049b234 chromedriver + 4092468\n12  chromedriver                        0x0000000100475604 chromedriver + 3937796\n13  chromedriver                        0x00000001004b7ee8 chromedriver + 4210408\n14  chromedriver                        0x00000001004b8064 chromedriver + 4210788\n15  chromedriver                        0x00000001004c8134 chromedriver + 4276532\n16  libsystem_pthread.dylib             0x00000001944b206c _pthread_start + 148\n17  libsystem_pthread.dylib             0x00000001944ace2c thread_start + 8\n",
     "output_type": "error",
     "traceback": [
      "\u001b[0;31m---------------------------------------------------------------------------\u001b[0m",
      "\u001b[0;31mNoSuchElementException\u001b[0m                    Traceback (most recent call last)",
      "\u001b[1;32m/Users/andrewkang/mdst/shein/main.ipynb Cell 1\u001b[0m line \u001b[0;36m1\n\u001b[1;32m      <a href='vscode-notebook-cell:/Users/andrewkang/mdst/shein/main.ipynb#X36sZmlsZQ%3D%3D?line=7'>8</a>\u001b[0m \u001b[39mprint\u001b[39m(\u001b[39m\"\u001b[39m\u001b[39mcoupon\u001b[39m\u001b[39m\"\u001b[39m)\n\u001b[1;32m      <a href='vscode-notebook-cell:/Users/andrewkang/mdst/shein/main.ipynb#X36sZmlsZQ%3D%3D?line=8'>9</a>\u001b[0m WebDriverWait(driver, timeout\u001b[39m=\u001b[39m\u001b[39m2\u001b[39m)\n\u001b[0;32m---> <a href='vscode-notebook-cell:/Users/andrewkang/mdst/shein/main.ipynb#X36sZmlsZQ%3D%3D?line=9'>10</a>\u001b[0m x_box \u001b[39m=\u001b[39m driver\u001b[39m.\u001b[39;49mfind_element(By\u001b[39m.\u001b[39;49mCLASS_NAME, \u001b[39m\"\u001b[39;49m\u001b[39miconfont icon-close she-close\u001b[39;49m\u001b[39m\"\u001b[39;49m)\n\u001b[1;32m     <a href='vscode-notebook-cell:/Users/andrewkang/mdst/shein/main.ipynb#X36sZmlsZQ%3D%3D?line=10'>11</a>\u001b[0m x_box\u001b[39m.\u001b[39mclick()\n",
      "File \u001b[0;32m~/mdst/shein/env/lib/python3.11/site-packages/selenium/webdriver/remote/webdriver.py:741\u001b[0m, in \u001b[0;36mWebDriver.find_element\u001b[0;34m(self, by, value)\u001b[0m\n\u001b[1;32m    738\u001b[0m     by \u001b[39m=\u001b[39m By\u001b[39m.\u001b[39mCSS_SELECTOR\n\u001b[1;32m    739\u001b[0m     value \u001b[39m=\u001b[39m \u001b[39mf\u001b[39m\u001b[39m'\u001b[39m\u001b[39m[name=\u001b[39m\u001b[39m\"\u001b[39m\u001b[39m{\u001b[39;00mvalue\u001b[39m}\u001b[39;00m\u001b[39m\"\u001b[39m\u001b[39m]\u001b[39m\u001b[39m'\u001b[39m\n\u001b[0;32m--> 741\u001b[0m \u001b[39mreturn\u001b[39;00m \u001b[39mself\u001b[39;49m\u001b[39m.\u001b[39;49mexecute(Command\u001b[39m.\u001b[39;49mFIND_ELEMENT, {\u001b[39m\"\u001b[39;49m\u001b[39musing\u001b[39;49m\u001b[39m\"\u001b[39;49m: by, \u001b[39m\"\u001b[39;49m\u001b[39mvalue\u001b[39;49m\u001b[39m\"\u001b[39;49m: value})[\u001b[39m\"\u001b[39m\u001b[39mvalue\u001b[39m\u001b[39m\"\u001b[39m]\n",
      "File \u001b[0;32m~/mdst/shein/env/lib/python3.11/site-packages/selenium/webdriver/remote/webdriver.py:347\u001b[0m, in \u001b[0;36mWebDriver.execute\u001b[0;34m(self, driver_command, params)\u001b[0m\n\u001b[1;32m    345\u001b[0m response \u001b[39m=\u001b[39m \u001b[39mself\u001b[39m\u001b[39m.\u001b[39mcommand_executor\u001b[39m.\u001b[39mexecute(driver_command, params)\n\u001b[1;32m    346\u001b[0m \u001b[39mif\u001b[39;00m response:\n\u001b[0;32m--> 347\u001b[0m     \u001b[39mself\u001b[39;49m\u001b[39m.\u001b[39;49merror_handler\u001b[39m.\u001b[39;49mcheck_response(response)\n\u001b[1;32m    348\u001b[0m     response[\u001b[39m\"\u001b[39m\u001b[39mvalue\u001b[39m\u001b[39m\"\u001b[39m] \u001b[39m=\u001b[39m \u001b[39mself\u001b[39m\u001b[39m.\u001b[39m_unwrap_value(response\u001b[39m.\u001b[39mget(\u001b[39m\"\u001b[39m\u001b[39mvalue\u001b[39m\u001b[39m\"\u001b[39m, \u001b[39mNone\u001b[39;00m))\n\u001b[1;32m    349\u001b[0m     \u001b[39mreturn\u001b[39;00m response\n",
      "File \u001b[0;32m~/mdst/shein/env/lib/python3.11/site-packages/selenium/webdriver/remote/errorhandler.py:229\u001b[0m, in \u001b[0;36mErrorHandler.check_response\u001b[0;34m(self, response)\u001b[0m\n\u001b[1;32m    227\u001b[0m         alert_text \u001b[39m=\u001b[39m value[\u001b[39m\"\u001b[39m\u001b[39malert\u001b[39m\u001b[39m\"\u001b[39m]\u001b[39m.\u001b[39mget(\u001b[39m\"\u001b[39m\u001b[39mtext\u001b[39m\u001b[39m\"\u001b[39m)\n\u001b[1;32m    228\u001b[0m     \u001b[39mraise\u001b[39;00m exception_class(message, screen, stacktrace, alert_text)  \u001b[39m# type: ignore[call-arg]  # mypy is not smart enough here\u001b[39;00m\n\u001b[0;32m--> 229\u001b[0m \u001b[39mraise\u001b[39;00m exception_class(message, screen, stacktrace)\n",
      "\u001b[0;31mNoSuchElementException\u001b[0m: Message: no such element: Unable to locate element: {\"method\":\"css selector\",\"selector\":\".iconfont icon-close she-close\"}\n  (Session info: chrome=118.0.5993.117); For documentation on this error, please visit: https://www.selenium.dev/documentation/webdriver/troubleshooting/errors#no-such-element-exception\nStacktrace:\n0   chromedriver                        0x00000001004d0510 chromedriver + 4310288\n1   chromedriver                        0x00000001004c84bc chromedriver + 4277436\n2   chromedriver                        0x00000001000fbb6c chromedriver + 293740\n3   chromedriver                        0x0000000100141040 chromedriver + 577600\n4   chromedriver                        0x000000010017be60 chromedriver + 818784\n5   chromedriver                        0x0000000100134fd0 chromedriver + 528336\n6   chromedriver                        0x0000000100135e7c chromedriver + 532092\n7   chromedriver                        0x0000000100496834 chromedriver + 4073524\n8   chromedriver                        0x000000010049a7fc chromedriver + 4089852\n9   chromedriver                        0x000000010049ac58 chromedriver + 4090968\n10  chromedriver                        0x00000001004a08f8 chromedriver + 4114680\n11  chromedriver                        0x000000010049b234 chromedriver + 4092468\n12  chromedriver                        0x0000000100475604 chromedriver + 3937796\n13  chromedriver                        0x00000001004b7ee8 chromedriver + 4210408\n14  chromedriver                        0x00000001004b8064 chromedriver + 4210788\n15  chromedriver                        0x00000001004c8134 chromedriver + 4276532\n16  libsystem_pthread.dylib             0x00000001944b206c _pthread_start + 148\n17  libsystem_pthread.dylib             0x00000001944ace2c thread_start + 8\n"
     ]
    }
   ],
   "source": [
    "driver = webdriver.Chrome(service=service, options=chrome_options)\n",
    "driver.get('https://us.shein.com/')\n",
    "WebDriverWait(driver, timeout=10)\n",
    "\n",
    "#click out of coupon pop up\n",
    "coupon_box = driver.find_elements(By.CLASS_NAME, \"c-coupon-box\")\n",
    "if (coupon_box):\n",
    "  print(\"coupon\")\n",
    "  WebDriverWait(driver, timeout=2)\n",
    "  x_box = driver.find_element(By.CLASS_NAME, \"iconfont icon-close she-close\")\n",
    "  x_box.click()"
   ]
  },
  {
   "cell_type": "code",
   "execution_count": 60,
   "metadata": {},
   "outputs": [
    {
     "ename": "NoSuchElementException",
     "evalue": "Message: no such element: Unable to locate element: {\"method\":\"css selector\",\"selector\":\".header-search-input j-header-search-input\"}\n  (Session info: chrome=118.0.5993.117); For documentation on this error, please visit: https://www.selenium.dev/documentation/webdriver/troubleshooting/errors#no-such-element-exception\nStacktrace:\n0   chromedriver                        0x00000001004d0510 chromedriver + 4310288\n1   chromedriver                        0x00000001004c84bc chromedriver + 4277436\n2   chromedriver                        0x00000001000fbb6c chromedriver + 293740\n3   chromedriver                        0x0000000100141040 chromedriver + 577600\n4   chromedriver                        0x000000010017be60 chromedriver + 818784\n5   chromedriver                        0x0000000100134fd0 chromedriver + 528336\n6   chromedriver                        0x0000000100135e7c chromedriver + 532092\n7   chromedriver                        0x0000000100496834 chromedriver + 4073524\n8   chromedriver                        0x000000010049a7fc chromedriver + 4089852\n9   chromedriver                        0x000000010049ac58 chromedriver + 4090968\n10  chromedriver                        0x00000001004a08f8 chromedriver + 4114680\n11  chromedriver                        0x000000010049b234 chromedriver + 4092468\n12  chromedriver                        0x0000000100475604 chromedriver + 3937796\n13  chromedriver                        0x00000001004b7ee8 chromedriver + 4210408\n14  chromedriver                        0x00000001004b8064 chromedriver + 4210788\n15  chromedriver                        0x00000001004c8134 chromedriver + 4276532\n16  libsystem_pthread.dylib             0x00000001944b206c _pthread_start + 148\n17  libsystem_pthread.dylib             0x00000001944ace2c thread_start + 8\n",
     "output_type": "error",
     "traceback": [
      "\u001b[0;31m---------------------------------------------------------------------------\u001b[0m",
      "\u001b[0;31mNoSuchElementException\u001b[0m                    Traceback (most recent call last)",
      "\u001b[1;32m/Users/andrewkang/mdst/shein/main.ipynb Cell 2\u001b[0m line \u001b[0;36m2\n\u001b[1;32m      <a href='vscode-notebook-cell:/Users/andrewkang/mdst/shein/main.ipynb#X40sZmlsZQ%3D%3D?line=0'>1</a>\u001b[0m \u001b[39m# get search box\u001b[39;00m\n\u001b[0;32m----> <a href='vscode-notebook-cell:/Users/andrewkang/mdst/shein/main.ipynb#X40sZmlsZQ%3D%3D?line=1'>2</a>\u001b[0m search_box \u001b[39m=\u001b[39m driver\u001b[39m.\u001b[39;49mfind_element(By\u001b[39m.\u001b[39;49mCLASS_NAME, \u001b[39m\"\u001b[39;49m\u001b[39mheader-search-input j-header-search-input\u001b[39;49m\u001b[39m\"\u001b[39;49m)\n\u001b[1;32m      <a href='vscode-notebook-cell:/Users/andrewkang/mdst/shein/main.ipynb#X40sZmlsZQ%3D%3D?line=2'>3</a>\u001b[0m search_box\u001b[39m.\u001b[39mclick()\n\u001b[1;32m      <a href='vscode-notebook-cell:/Users/andrewkang/mdst/shein/main.ipynb#X40sZmlsZQ%3D%3D?line=3'>4</a>\u001b[0m \u001b[39m#type in keyword\u001b[39;00m\n\u001b[1;32m      <a href='vscode-notebook-cell:/Users/andrewkang/mdst/shein/main.ipynb#X40sZmlsZQ%3D%3D?line=4'>5</a>\u001b[0m \u001b[39m# get search buttom\u001b[39;00m\n",
      "File \u001b[0;32m~/mdst/shein/env/lib/python3.11/site-packages/selenium/webdriver/remote/webdriver.py:741\u001b[0m, in \u001b[0;36mWebDriver.find_element\u001b[0;34m(self, by, value)\u001b[0m\n\u001b[1;32m    738\u001b[0m     by \u001b[39m=\u001b[39m By\u001b[39m.\u001b[39mCSS_SELECTOR\n\u001b[1;32m    739\u001b[0m     value \u001b[39m=\u001b[39m \u001b[39mf\u001b[39m\u001b[39m'\u001b[39m\u001b[39m[name=\u001b[39m\u001b[39m\"\u001b[39m\u001b[39m{\u001b[39;00mvalue\u001b[39m}\u001b[39;00m\u001b[39m\"\u001b[39m\u001b[39m]\u001b[39m\u001b[39m'\u001b[39m\n\u001b[0;32m--> 741\u001b[0m \u001b[39mreturn\u001b[39;00m \u001b[39mself\u001b[39;49m\u001b[39m.\u001b[39;49mexecute(Command\u001b[39m.\u001b[39;49mFIND_ELEMENT, {\u001b[39m\"\u001b[39;49m\u001b[39musing\u001b[39;49m\u001b[39m\"\u001b[39;49m: by, \u001b[39m\"\u001b[39;49m\u001b[39mvalue\u001b[39;49m\u001b[39m\"\u001b[39;49m: value})[\u001b[39m\"\u001b[39m\u001b[39mvalue\u001b[39m\u001b[39m\"\u001b[39m]\n",
      "File \u001b[0;32m~/mdst/shein/env/lib/python3.11/site-packages/selenium/webdriver/remote/webdriver.py:347\u001b[0m, in \u001b[0;36mWebDriver.execute\u001b[0;34m(self, driver_command, params)\u001b[0m\n\u001b[1;32m    345\u001b[0m response \u001b[39m=\u001b[39m \u001b[39mself\u001b[39m\u001b[39m.\u001b[39mcommand_executor\u001b[39m.\u001b[39mexecute(driver_command, params)\n\u001b[1;32m    346\u001b[0m \u001b[39mif\u001b[39;00m response:\n\u001b[0;32m--> 347\u001b[0m     \u001b[39mself\u001b[39;49m\u001b[39m.\u001b[39;49merror_handler\u001b[39m.\u001b[39;49mcheck_response(response)\n\u001b[1;32m    348\u001b[0m     response[\u001b[39m\"\u001b[39m\u001b[39mvalue\u001b[39m\u001b[39m\"\u001b[39m] \u001b[39m=\u001b[39m \u001b[39mself\u001b[39m\u001b[39m.\u001b[39m_unwrap_value(response\u001b[39m.\u001b[39mget(\u001b[39m\"\u001b[39m\u001b[39mvalue\u001b[39m\u001b[39m\"\u001b[39m, \u001b[39mNone\u001b[39;00m))\n\u001b[1;32m    349\u001b[0m     \u001b[39mreturn\u001b[39;00m response\n",
      "File \u001b[0;32m~/mdst/shein/env/lib/python3.11/site-packages/selenium/webdriver/remote/errorhandler.py:229\u001b[0m, in \u001b[0;36mErrorHandler.check_response\u001b[0;34m(self, response)\u001b[0m\n\u001b[1;32m    227\u001b[0m         alert_text \u001b[39m=\u001b[39m value[\u001b[39m\"\u001b[39m\u001b[39malert\u001b[39m\u001b[39m\"\u001b[39m]\u001b[39m.\u001b[39mget(\u001b[39m\"\u001b[39m\u001b[39mtext\u001b[39m\u001b[39m\"\u001b[39m)\n\u001b[1;32m    228\u001b[0m     \u001b[39mraise\u001b[39;00m exception_class(message, screen, stacktrace, alert_text)  \u001b[39m# type: ignore[call-arg]  # mypy is not smart enough here\u001b[39;00m\n\u001b[0;32m--> 229\u001b[0m \u001b[39mraise\u001b[39;00m exception_class(message, screen, stacktrace)\n",
      "\u001b[0;31mNoSuchElementException\u001b[0m: Message: no such element: Unable to locate element: {\"method\":\"css selector\",\"selector\":\".header-search-input j-header-search-input\"}\n  (Session info: chrome=118.0.5993.117); For documentation on this error, please visit: https://www.selenium.dev/documentation/webdriver/troubleshooting/errors#no-such-element-exception\nStacktrace:\n0   chromedriver                        0x00000001004d0510 chromedriver + 4310288\n1   chromedriver                        0x00000001004c84bc chromedriver + 4277436\n2   chromedriver                        0x00000001000fbb6c chromedriver + 293740\n3   chromedriver                        0x0000000100141040 chromedriver + 577600\n4   chromedriver                        0x000000010017be60 chromedriver + 818784\n5   chromedriver                        0x0000000100134fd0 chromedriver + 528336\n6   chromedriver                        0x0000000100135e7c chromedriver + 532092\n7   chromedriver                        0x0000000100496834 chromedriver + 4073524\n8   chromedriver                        0x000000010049a7fc chromedriver + 4089852\n9   chromedriver                        0x000000010049ac58 chromedriver + 4090968\n10  chromedriver                        0x00000001004a08f8 chromedriver + 4114680\n11  chromedriver                        0x000000010049b234 chromedriver + 4092468\n12  chromedriver                        0x0000000100475604 chromedriver + 3937796\n13  chromedriver                        0x00000001004b7ee8 chromedriver + 4210408\n14  chromedriver                        0x00000001004b8064 chromedriver + 4210788\n15  chromedriver                        0x00000001004c8134 chromedriver + 4276532\n16  libsystem_pthread.dylib             0x00000001944b206c _pthread_start + 148\n17  libsystem_pthread.dylib             0x00000001944ace2c thread_start + 8\n"
     ]
    }
   ],
   "source": [
    "# get search box\n",
    "search_box = driver.find_element(By.CLASS_NAME, \"header-search-input j-header-search-input\")\n",
    "search_box.click()\n",
    "#type in keyword\n",
    "# get search buttom\n",
    "search_button = driver.find_element(By.CLASS_NAME, \"search-btn she-btn-black j-search-btn\")\n",
    "search_button.click()\n",
    "# price\n",
    "#price = driver.find_element(By.CLASS_NAME, \"product-item__camelcase-wrap\")X"
   ]
  }
 ],
 "metadata": {
  "kernelspec": {
   "display_name": "env",
   "language": "python",
   "name": "python3"
  },
  "language_info": {
   "codemirror_mode": {
    "name": "ipython",
    "version": 3
   },
   "file_extension": ".py",
   "mimetype": "text/x-python",
   "name": "python",
   "nbconvert_exporter": "python",
   "pygments_lexer": "ipython3",
   "version": "3.11.5"
  }
 },
 "nbformat": 4,
 "nbformat_minor": 2
}
