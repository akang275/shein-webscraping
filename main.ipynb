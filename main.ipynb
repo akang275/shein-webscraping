{
 "cells": [
  {
   "cell_type": "code",
   "execution_count": 1,
   "metadata": {},
   "outputs": [],
   "source": [
    "import time\n",
    "import pandas as pd\n",
    "from selenium import webdriver\n",
    "from selenium.webdriver.chrome.service import Service\n",
    "from selenium.webdriver.common.by import By\n",
    "from selenium.webdriver.support.wait import WebDriverWait\n",
    "from selenium.webdriver.chrome.options import Options\n",
    "from bs4 import BeautifulSoup"
   ]
  },
  {
   "cell_type": "code",
   "execution_count": 2,
   "metadata": {},
   "outputs": [],
   "source": [
    "service = Service()\n",
    "\n",
    "# if you want to get fancy with the options\n",
    "# here the the ChromeOptions documentation: https://chromedriver.chromium.org/capabilities#h.p_ID_102\n",
    "# here is the list of Chrome arguments: https://peter.sh/experiments/chromium-command-line-switches/\n",
    "# there are a lot...\n",
    "chrome_options = webdriver.ChromeOptions()\n",
    "chrome_options.add_experimental_option(\"detach\", True) # this keeps the window open post execution/errors/ changing frames (explained later)\n",
    "\n",
    "prefs = {\"download.default_directory\": '/Users/justinpaul/Downloads',  # note need to change this\n",
    "         \"directory_upgrade\": True}\n",
    "chrome_options.add_experimental_option(\"prefs\", prefs)"
   ]
  },
  {
   "cell_type": "code",
   "execution_count": 46,
   "metadata": {},
   "outputs": [],
   "source": [
    "driver = webdriver.Chrome(service=service, options=chrome_options)\n",
    "driver.get('https://us.shein.com/')\n",
    "WebDriverWait(driver, timeout=10)\n",
    "\n",
    "#click out of coupon pop up\n",
    "x_box = driver.find_element(By.CLASS_NAME, \"icon-close\").click()\n",
    "\n",
    "input = 'shirt'\n",
    "\n",
    "search_bar = driver.find_element(By.CLASS_NAME, \"header-search-input\")\n",
    "search_bar.send_keys(input)\n",
    "\n",
    "search_enter = driver.find_element(By.CLASS_NAME, \"suiiconfont-critical\").click()\n",
    "\n",
    "parent_size=driver.find_element(By.CSS_SELECTOR, \"[aria-label=Size]\")\n",
    "view_more=parent_size.find_element(By.CLASS_NAME, \"side-filter__item-viewMore\").click()\n",
    "\n",
    "size = \"M\"\n",
    "size_boxes = parent_size.find_elements(By.CLASS_NAME, \"sui-checkbox__label-text\")\n",
    "for size_box in size_boxes:\n",
    "  if size_box.text == size:\n",
    "    size_box.click()\n"
   ]
  },
  {
   "cell_type": "code",
   "execution_count": 52,
   "metadata": {},
   "outputs": [
    {
     "name": "stdout",
     "output_type": "stream",
     "text": [
      "2\n",
      "3\n"
     ]
    },
    {
     "data": {
      "text/plain": [
       "1"
      ]
     },
     "execution_count": 52,
     "metadata": {},
     "output_type": "execute_result"
    }
   ],
   "source": [
    "page_source = driver.page_source\n",
    "\n",
    "soup = BeautifulSoup(page_source, 'html.parser')\n",
    "\n",
    "items = soup.find_all('section', class_=\"product-list__item\")\n",
    "\n",
    "list_of_lists = []\n",
    "\n",
    "for item in items:\n",
    "  list_of_item = []\n",
    "  #item_a = item.find('div', class_=\"S-product-item__name\").find('a')\n",
    "  item_a = item.find('a')\n",
    "  href_value = item_a.get('href')\n",
    "\n",
    "  link = 'us.shein.com' + href_value\n",
    "  list_of_item.append(link)\n",
    "\n",
    "  item_name = item_a.text\n",
    "  list_of_item.append(item_name)\n",
    "\n",
    "  item_price = item.find('p', class_=\"product-item__camecase-wrap\").find('span').text\n",
    "  list_of_item.append(item_price)\n",
    "\n",
    "  list_of_lists.append(list_of_item)\n",
    "\n",
    "df = pd.DataFrame(list_of_lists, columns=['link', 'item name', 'price'])\n",
    "\n",
    "csv_tracker = open('csv_tracker.txt', 'r')\n",
    "csv_number = csv_tracker.read()\n",
    "print(csv_number)\n",
    "df.to_csv(f'{csv_number}.csv', index=False, sep=',')\n",
    "\n",
    "#print('csv_tracker_write')\n",
    "csv_tracker_write = open(\"csv_tracker.txt\", \"w\")\n",
    "next_csv_number = str(int(csv_number) + 1)\n",
    "print(next_csv_number)\n",
    "csv_tracker_write.write(next_csv_number)"
   ]
  },
  {
   "cell_type": "code",
   "execution_count": 53,
   "metadata": {},
   "outputs": [
    {
     "name": "stdout",
     "output_type": "stream",
     "text": [
      "2\n",
      "1\n",
      "                                                  link     item name  price\n",
      "0    us.shein.com/SHEIN-LUNE-Feather-Print-Keyhole-...  17SAVE $0.67  $3.82\n",
      "1    us.shein.com/Manfinity-Mode-Men-Horse-Print-Co...  10SAVE $5.50  $6.99\n",
      "2    us.shein.com/SHEIN-LUNE-Plaid-Print-Button-Fro...            11  $7.53\n",
      "3    us.shein.com/SHEIN-LUNE-Solid-Cold-Shoulder-Sp...  16SAVE $1.20  $6.29\n",
      "4    us.shein.com/Manfinity-Homme-Men-Ribbed-Knit-P...    SAVE $3.38  $9.61\n",
      "..                                                 ...           ...    ...\n",
      "115  us.shein.com/SHEIN-LUNE-Ditsy-Floral-Flounce-S...             8  $8.49\n",
      "116  us.shein.com/Manfinity-Homme-Men-Argyle-Jacqua...   6SAVE $2.62  $9.87\n",
      "117  us.shein.com/SHEIN-Priv-Polka-Dot-Ruffle-Trim-...    SAVE $2.30  $9.19\n",
      "118  us.shein.com/SHEIN-Clasi-Gold-Dot-Print-Flare-...   4Save $1.50  $5.99\n",
      "119  us.shein.com/Manfinity-Homme-Men-Drop-Shoulder...   8SAVE $4.75  $8.74\n",
      "\n",
      "[120 rows x 3 columns]\n",
      "3.82\n",
      "3.82\n",
      "                                                link  price_drop\n",
      "0  us.shein.com/SHEIN-LUNE-Feather-Print-Keyhole-...         0.0\n",
      "1  us.shein.com/Manfinity-Mode-Men-Horse-Print-Co...         0.0\n",
      "2  us.shein.com/SHEIN-LUNE-Plaid-Print-Button-Fro...         0.0\n",
      "3  us.shein.com/SHEIN-LUNE-Solid-Cold-Shoulder-Sp...         0.0\n",
      "4  us.shein.com/Manfinity-Homme-Men-Ribbed-Knit-P...         0.0\n"
     ]
    },
    {
     "name": "stderr",
     "output_type": "stream",
     "text": [
      "/var/folders/02/9y8vd0t555l0mp4010rn9w140000gn/T/ipykernel_3876/2223976143.py:22: FutureWarning: Series.__getitem__ treating keys as positions is deprecated. In a future version, integer keys will always be treated as labels (consistent with DataFrame behavior). To access a value by position, use `ser.iloc[pos]`\n",
      "  link = df_concat['link'][0]\n",
      "/var/folders/02/9y8vd0t555l0mp4010rn9w140000gn/T/ipykernel_3876/2223976143.py:33: FutureWarning: Series.__getitem__ treating keys as positions is deprecated. In a future version, integer keys will always be treated as labels (consistent with DataFrame behavior). To access a value by position, use `ser.iloc[pos]`\n",
      "  if duplicate_links[i] == True:\n",
      "/var/folders/02/9y8vd0t555l0mp4010rn9w140000gn/T/ipykernel_3876/2223976143.py:34: FutureWarning: Series.__getitem__ treating keys as positions is deprecated. In a future version, integer keys will always be treated as labels (consistent with DataFrame behavior). To access a value by position, use `ser.iloc[pos]`\n",
      "  link = df_concat['link'][i]\n"
     ]
    }
   ],
   "source": [
    "print(csv_number)\n",
    "prev_csv_num = int(csv_number) - 1\n",
    "print(prev_csv_num)\n",
    "df_prev = pd.read_csv(f'{prev_csv_num}.csv')\n",
    "df = pd.read_csv(f'{csv_number}.csv')\n",
    "\n",
    "#print(df.head())\n",
    "#print(df_prev.head())\n",
    "\n",
    "#for i in range(len(df.index)):\n",
    "#print(df.columns)\n",
    "#for index, row in df.iterrows():\n",
    "#  print(row['item_name'])\n",
    "\n",
    "df_concat = pd.concat([df, df_prev], keys=['x', 'y'])\n",
    "#print(df_concat.to_string())\n",
    "\n",
    "duplicate_links = df_concat['link'].duplicated()\n",
    "#print(duplicate_links)\n",
    "#print(len(duplicate_links))\n",
    "\n",
    "link = df_concat['link'][0]\n",
    "\n",
    "print(df)\n",
    "price_current = float(df.loc[df['link'] == link]['price'].to_string(index=False).strip(\"$\"))\n",
    "print(price_current)\n",
    "price_prev = float(df_prev.loc[df['link'] == link]['price'].to_string(index=False).strip(\"$\"))\n",
    "print(price_prev)\n",
    "\n",
    "\n",
    "price_drops = []\n",
    "for i in range(len(duplicate_links)):\n",
    "  if duplicate_links[i] == True:\n",
    "    link = df_concat['link'][i]\n",
    "\n",
    "    price_current = float(df.loc[df['link'] == link]['price'].to_string(index=False).strip(\"$\"))\n",
    "    price_prev = float(df_prev.loc[df['link'] == link]['price'].to_string(index=False).strip(\"$\"))\n",
    "\n",
    "    price_drop = price_prev - price_current\n",
    "\n",
    "    item_with_price_drop = [link, price_drop]\n",
    "\n",
    "    price_drops.append(item_with_price_drop)\n",
    "\n",
    "\n",
    "df_price_drops = pd.DataFrame(price_drops, columns=['link', 'price_drop'])\n",
    "\n",
    "print(df_price_drops.nlargest(n=5, columns='price_drop'))\n",
    "#print(df_price_drops.sort_values(by=['price_drop']).head(5))\n"
   ]
  }
 ],
 "metadata": {
  "kernelspec": {
   "display_name": "env",
   "language": "python",
   "name": "python3"
  },
  "language_info": {
   "codemirror_mode": {
    "name": "ipython",
    "version": 3
   },
   "file_extension": ".py",
   "mimetype": "text/x-python",
   "name": "python",
   "nbconvert_exporter": "python",
   "pygments_lexer": "ipython3",
   "version": "3.11.5"
  }
 },
 "nbformat": 4,
 "nbformat_minor": 2
}
